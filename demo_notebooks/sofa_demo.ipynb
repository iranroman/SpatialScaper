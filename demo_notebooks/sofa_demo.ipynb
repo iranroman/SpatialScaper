{
 "cells": [
  {
   "cell_type": "code",
   "execution_count": 1,
   "metadata": {},
   "outputs": [],
   "source": [
    "import sofa_utils\n",
    "import os"
   ]
  },
  {
   "cell_type": "code",
   "execution_count": null,
   "metadata": {},
   "outputs": [],
   "source": [
    "tau_db_dir = '/scratch/ci411/SRIR_DATASETS/TAU_SRIR_DB/TAU-SRIR_DB'\n",
    "sofa_db_dir = '/scratch/ci411/SRIR_DATASETS/TAU_SRIR_DB_SOFA'\n",
    "db_name = \"TAU-SRIR-DB-SOFA\"\n",
    "\n",
    "for room_idx in range(9):\n",
    "    for aud_fmt in ['foa','mic']:\n",
    "        #load flattened (and flipped) rirs/paths from TAU-SRIR database\n",
    "        rirs, source_pos, mic_pos, room = sofa_utils.load_flat_tau_srir(tau_db_dir, room_idx, aud_fmt=aud_fmt)\n",
    "        filepath = os.path.join(sofa_db_dir, aud_fmt, room+'.sofa')\n",
    "        comment = f\"SOFA conversion of {room} from TAU-SRIR-DB\"\n",
    "        #create .sofa files with flattened rirs/paths + metadata\n",
    "        sofa_utils.create_srir_sofa(filepath, rirs, source_pos, mic_pos, db_name=db_name,\\\n",
    "                     room_name=room, listener_name=aud_fmt, sr=24000, comment=comment)"
   ]
  },
  {
   "cell_type": "code",
   "execution_count": null,
   "metadata": {},
   "outputs": [],
   "source": [
    "load_rirs = sofa_utils.load_rir('sofa_file.sofa')\n",
    "load_sp = sofa_utils.load_pos('sofa_file.sofa')"
   ]
  },
  {
   "cell_type": "code",
   "execution_count": null,
   "metadata": {},
   "outputs": [],
   "source": [
    "load_rirs, load_sp = sofa_utils.load_rir_pos('sofa_file.sofa')"
   ]
  }
 ],
 "metadata": {
  "kernelspec": {
   "display_name": "S3D Env",
   "language": "python",
   "name": "s3d_env"
  },
  "language_info": {
   "codemirror_mode": {
    "name": "ipython",
    "version": 3
   },
   "file_extension": ".py",
   "mimetype": "text/x-python",
   "name": "python",
   "nbconvert_exporter": "python",
   "pygments_lexer": "ipython3",
   "version": "3.8.13"
  }
 },
 "nbformat": 4,
 "nbformat_minor": 4
}
